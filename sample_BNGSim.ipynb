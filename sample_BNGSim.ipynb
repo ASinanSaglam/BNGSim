{
 "cells": [
  {
   "cell_type": "code",
   "execution_count": null,
   "metadata": {},
   "outputs": [],
   "source": [
    "from BNGSim import BNGSim"
   ]
  },
  {
   "cell_type": "code",
   "execution_count": null,
   "metadata": {},
   "outputs": [],
   "source": [
    "# Replace these paths with yours. First path is the \"working path\" where the simulation/s will run. \n",
    "# Second is the BNG path, third will be the bngl you want to simulate. It won't be modified, just copied.\n",
    "b = BNGSim(\"/home/monoid/test\", BNGPATH=\"/home/monoid/apps/BioNetGen-2.4.0\",\n",
    "           bngl=\"/home/monoid/Development/BNGSim/exMISA.bngl\", ncores=5)"
   ]
  },
  {
   "cell_type": "code",
   "execution_count": null,
   "metadata": {},
   "outputs": [],
   "source": [
    "b.parser.loaded_xml.ListOfParameters"
   ]
  },
  {
   "cell_type": "code",
   "execution_count": null,
   "metadata": {},
   "outputs": [],
   "source": [
    "b.parser.add_action('generate_network({})')\n",
    "b.parser.add_action('simulate({method=>\"ssa\",t_start=>0,t_end=>100000,n_steps=>10000})')"
   ]
  },
  {
   "cell_type": "code",
   "execution_count": null,
   "metadata": {},
   "outputs": [],
   "source": [
    "b.run_simulation(nsims=10)"
   ]
  },
  {
   "cell_type": "code",
   "execution_count": null,
   "metadata": {},
   "outputs": [],
   "source": [
    "b.results"
   ]
  },
  {
   "cell_type": "code",
   "execution_count": null,
   "metadata": {},
   "outputs": [],
   "source": [
    "b.combine_results()\n",
    "b.save_results(fname=\"all_results.h5\", combined=True)"
   ]
  },
  {
   "cell_type": "code",
   "execution_count": null,
   "metadata": {},
   "outputs": [],
   "source": [
    "# Now let's pretend you are opening the results after the fact. \n",
    "# You can use b.combined_results to do the sections after this as well if you prefer but \n",
    "# I want to show off how to use the file I created\n",
    "del b\n",
    "\n",
    "import h5py\n",
    "h = h5py.File(\"all_results.h5\")\n",
    "combined_results = h['combined_results'][...]"
   ]
  },
  {
   "cell_type": "code",
   "execution_count": null,
   "metadata": {},
   "outputs": [],
   "source": [
    "combined_results.shape"
   ]
  },
  {
   "cell_type": "code",
   "execution_count": null,
   "metadata": {},
   "outputs": [],
   "source": [
    "names = combined_results.dtype.names\n",
    "tn,an = names[0], names[1]\n",
    "t,a = combined_results[tn], combined_results[an]\n",
    "print(t.shape)\n",
    "print(t)"
   ]
  },
  {
   "cell_type": "code",
   "execution_count": null,
   "metadata": {},
   "outputs": [],
   "source": [
    "import matplotlib.pyplot as plt\n",
    "%matplotlib inline\n",
    "for i in range(t.shape[0]):\n",
    "    plt.plot(t[i],a[i], label=\"{}\".format(i))\n",
    "plt.xlabel(tn)\n",
    "plt.ylabel(an)\n",
    "plt.legend(frameon=False)\n",
    "plt.show()"
   ]
  },
  {
   "cell_type": "code",
   "execution_count": null,
   "metadata": {},
   "outputs": [],
   "source": [
    "# This section will only work if you have 2 or more obs\n",
    "import numpy as np\n",
    "\n",
    "cn = names[2]\n",
    "c = combined_results[cn]\n",
    "atot = a.flatten()\n",
    "ctot = c.flatten()\n",
    "\n",
    "H, xed, yed = np.histogram2d(atot, ctot, bins=30)\n",
    "P = H/H.max()"
   ]
  },
  {
   "cell_type": "code",
   "execution_count": null,
   "metadata": {},
   "outputs": [],
   "source": [
    "im = plt.imshow(P, cmap=plt.get_cmap(\"magma_r\", 100), vmax=1)\n",
    "_ = plt.colorbar(im, label=\"probability\")\n",
    "plt.xlim(0,30)\n",
    "plt.ylim(0,30)\n",
    "plt.xlabel(\"[A]\")\n",
    "plt.ylabel(\"[B]\")\n",
    "plt.show()"
   ]
  },
  {
   "cell_type": "code",
   "execution_count": null,
   "metadata": {},
   "outputs": [],
   "source": []
  }
 ],
 "metadata": {
  "kernelspec": {
   "display_name": "Python 3",
   "language": "python",
   "name": "python3"
  },
  "language_info": {
   "codemirror_mode": {
    "name": "ipython",
    "version": 3
   },
   "file_extension": ".py",
   "mimetype": "text/x-python",
   "name": "python",
   "nbconvert_exporter": "python",
   "pygments_lexer": "ipython3",
   "version": "3.6.5"
  }
 },
 "nbformat": 4,
 "nbformat_minor": 2
}
