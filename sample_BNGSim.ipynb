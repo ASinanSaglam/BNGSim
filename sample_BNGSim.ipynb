{
 "cells": [
  {
   "cell_type": "code",
   "execution_count": 1,
   "metadata": {},
   "outputs": [
    {
     "name": "stderr",
     "output_type": "stream",
     "text": [
      "/home/monoid/apps/anaconda3/lib/python3.6/site-packages/h5py/__init__.py:36: FutureWarning: Conversion of the second argument of issubdtype from `float` to `np.floating` is deprecated. In future, it will be treated as `np.float64 == np.dtype(float).type`.\n",
      "  from ._conv import register_converters as _register_converters\n"
     ]
    }
   ],
   "source": [
    "from BNGSim import BNGSim"
   ]
  },
  {
   "cell_type": "code",
   "execution_count": 2,
   "metadata": {},
   "outputs": [],
   "source": [
    "# Replace these paths with yours. First path is the \"working path\" where the simulation/s will run. \n",
    "# Second is the BNG path, third will be the bngl you want to simulate. It won't be modified, just copied.\n",
    "b = BNGSim(\"/home/monoid/test\", BNGPATH=\"/home/monoid/apps/BioNetGen-2.4.0\",\n",
    "           bngl=\"/home/monoid/Development/BNGSim/exMISA.bngl\", ncores=5)"
   ]
  },
  {
   "cell_type": "code",
   "execution_count": 3,
   "metadata": {},
   "outputs": [],
   "source": [
    "b.parser.clean_actions()\n",
    "b.parser.add_action('generate_network({})')\n",
    "b.parser.add_action('simulate({method=>\"ssa\",t_start=>0,t_end=>100000,n_steps=>10000})')"
   ]
  },
  {
   "cell_type": "code",
   "execution_count": 4,
   "metadata": {},
   "outputs": [
    {
     "name": "stdout",
     "output_type": "stream",
     "text": [
      "Given simulation path does not exist or invalid, trying to create\n",
      "BNG2.pl seems to be working\n",
      "Given simulation path does not exist or invalid, trying to create\n",
      "BNG2.pl seems to be working\n",
      "Given simulation path does not exist or invalid, trying to create\n",
      "BNG2.pl seems to be working\n",
      "Given simulation path does not exist or invalid, trying to create\n",
      "BNG2.pl seems to be working\n",
      "Given simulation path does not exist or invalid, trying to create\n",
      "BNG2.pl seems to be working\n",
      "Given simulation path does not exist or invalid, trying to create\n",
      "BNG2.pl seems to be working\n",
      "Given simulation path does not exist or invalid, trying to create\n",
      "BNG2.pl seems to be working\n",
      "Given simulation path does not exist or invalid, trying to create\n",
      "BNG2.pl seems to be working\n",
      "Given simulation path does not exist or invalid, trying to create\n",
      "BNG2.pl seems to be working\n",
      "Given simulation path does not exist or invalid, trying to create\n",
      "BNG2.pl seems to be working\n",
      "running parallel with 5 cores\n",
      "Ensuring path: /home/monoid/test/00000000\n",
      "Ensuring path: /home/monoid/test/00000003\n",
      "Ensuring path: /home/monoid/test/00000002\n",
      "Ensuring path: /home/monoid/test/00000001\n",
      "Ensuring path: /home/monoid/test/00000004\n",
      "Simulation succesful, loading results\n",
      "Searching for existing files\n",
      "Finding and loading .gdat file\n",
      "Finding and loading .cdat file\n",
      "Simulation succesful, loading results\n",
      "Searching for existing files\n",
      "Finding and loading .gdat file\n",
      "Simulation succesful, loading results\n",
      "Searching for existing files\n",
      "Finding and loading .gdat file\n",
      "Finding and loading .net file\n",
      "Loaded results files\n",
      "Cleanup asked, removing simulation folder /home/monoid/test/00000002\n",
      "Finding and loading .cdat file\n",
      "Cleaned up simulation folder\n",
      "Ensuring path: /home/monoid/test/00000005\n",
      "Finding and loading .cdat file\n",
      "Finding and loading .net file\n",
      "Loaded results files\n",
      "Cleanup asked, removing simulation folder /home/monoid/test/00000000\n",
      "Cleaned up simulation folder\n",
      "Ensuring path: /home/monoid/test/00000006\n",
      "Simulation succesful, loading results\n",
      "Searching for existing files\n",
      "Finding and loading .gdat file\n",
      "Finding and loading .net file\n",
      "Loaded results files\n",
      "Cleanup asked, removing simulation folder /home/monoid/test/00000003\n",
      "Cleaned up simulation folder\n",
      "Ensuring path: /home/monoid/test/00000007\n",
      "Finding and loading .cdat file\n",
      "Finding and loading .net file\n",
      "Loaded results files\n",
      "Cleanup asked, removing simulation folder /home/monoid/test/00000001\n",
      "Cleaned up simulation folder\n",
      "Ensuring path: /home/monoid/test/00000008\n",
      "Simulation succesful, loading results\n",
      "Searching for existing files\n",
      "Finding and loading .gdat file\n",
      "Finding and loading .cdat file\n",
      "Finding and loading .net file\n",
      "Loaded results files\n",
      "Cleanup asked, removing simulation folder /home/monoid/test/00000004\n",
      "Cleaned up simulation folder\n",
      "Ensuring path: /home/monoid/test/00000009\n",
      "Simulation succesful, loading results\n",
      "Searching for existing files\n",
      "Finding and loading .gdat file\n",
      "Finding and loading .cdat file\n",
      "Simulation succesful, loading results\n",
      "Searching for existing files\n",
      "Finding and loading .gdat file\n",
      "Finding and loading .cdat file\n",
      "Finding and loading .net file\n",
      "Loaded results files\n",
      "Cleanup asked, removing simulation folder /home/monoid/test/00000007\n",
      "Cleaned up simulation folder\n",
      "Finding and loading .net file\n",
      "Loaded results files\n",
      "Cleanup asked, removing simulation folder /home/monoid/test/00000006\n",
      "Cleaned up simulation folder\n",
      "Simulation succesful, loading results\n",
      "Searching for existing files\n",
      "Finding and loading .gdat file\n",
      "Finding and loading .cdat file\n",
      "Finding and loading .net file\n",
      "Loaded results files\n",
      "Cleanup asked, removing simulation folder /home/monoid/test/00000005\n",
      "Cleaned up simulation folder\n",
      "Simulation succesful, loading results\n",
      "Searching for existing files\n",
      "Finding and loading .gdat file\n",
      "Finding and loading .cdat file\n",
      "Finding and loading .net file\n",
      "Loaded results files\n",
      "Cleanup asked, removing simulation folder /home/monoid/test/00000009\n",
      "Cleaned up simulation folder\n",
      "Simulation succesful, loading results\n",
      "Searching for existing files\n",
      "Finding and loading .gdat file\n",
      "Finding and loading .cdat file\n",
      "Finding and loading .net file\n",
      "Loaded results files\n",
      "Cleanup asked, removing simulation folder /home/monoid/test/00000008\n",
      "Cleaned up simulation folder\n"
     ]
    }
   ],
   "source": [
    "b.run_simulation(nsims=10)"
   ]
  },
  {
   "cell_type": "code",
   "execution_count": 5,
   "metadata": {},
   "outputs": [
    {
     "data": {
      "text/plain": [
       "[<BNGResult.BNGResult at 0x7f951d08f8d0>,\n",
       " <BNGResult.BNGResult at 0x7f951d08ff60>,\n",
       " <BNGResult.BNGResult at 0x7f951d08f3c8>,\n",
       " <BNGResult.BNGResult at 0x7f951d08fc18>,\n",
       " <BNGResult.BNGResult at 0x7f951d08f630>,\n",
       " <BNGResult.BNGResult at 0x7f951d08f470>,\n",
       " <BNGResult.BNGResult at 0x7f951d08f4e0>,\n",
       " <BNGResult.BNGResult at 0x7f951d08fcc0>,\n",
       " <BNGResult.BNGResult at 0x7f951d093d68>,\n",
       " <BNGResult.BNGResult at 0x7f951d093a20>]"
      ]
     },
     "execution_count": 5,
     "metadata": {},
     "output_type": "execute_result"
    }
   ],
   "source": [
    "b.results"
   ]
  },
  {
   "cell_type": "code",
   "execution_count": 6,
   "metadata": {},
   "outputs": [
    {
     "name": "stdout",
     "output_type": "stream",
     "text": [
      "Results combined in combined_results attribute\n"
     ]
    }
   ],
   "source": [
    "b.combine_results()\n",
    "b.save_results(fname=\"all_results.h5\", combined=True)"
   ]
  },
  {
   "cell_type": "code",
   "execution_count": 7,
   "metadata": {},
   "outputs": [],
   "source": [
    "# Now let's pretend you are opening the results after the fact. \n",
    "# You can use b.combined_results to do the sections after this as well if you prefer but \n",
    "# I want to show off how to use the file I created\n",
    "del b\n",
    "\n",
    "import h5py\n",
    "h = h5py.File(\"all_results.h5\")\n",
    "combined_results = h['combined_results'][...]"
   ]
  },
  {
   "cell_type": "code",
   "execution_count": 8,
   "metadata": {},
   "outputs": [
    {
     "data": {
      "text/plain": [
       "(10, 10001)"
      ]
     },
     "execution_count": 8,
     "metadata": {},
     "output_type": "execute_result"
    }
   ],
   "source": [
    "combined_results.shape"
   ]
  },
  {
   "cell_type": "code",
   "execution_count": 9,
   "metadata": {},
   "outputs": [
    {
     "name": "stdout",
     "output_type": "stream",
     "text": [
      "(10, 10001)\n",
      "[[0.000e+00 1.000e+01 2.000e+01 ... 9.998e+04 9.999e+04 1.000e+05]\n",
      " [0.000e+00 1.000e+01 2.000e+01 ... 9.998e+04 9.999e+04 1.000e+05]\n",
      " [0.000e+00 1.000e+01 2.000e+01 ... 9.998e+04 9.999e+04 1.000e+05]\n",
      " ...\n",
      " [0.000e+00 1.000e+01 2.000e+01 ... 9.998e+04 9.999e+04 1.000e+05]\n",
      " [0.000e+00 1.000e+01 2.000e+01 ... 9.998e+04 9.999e+04 1.000e+05]\n",
      " [0.000e+00 1.000e+01 2.000e+01 ... 9.998e+04 9.999e+04 1.000e+05]]\n"
     ]
    }
   ],
   "source": [
    "names = combined_results.dtype.names\n",
    "tn,an = names[0], names[1]\n",
    "t,a = combined_results[tn], combined_results[an]\n",
    "print(t.shape)\n",
    "print(t)"
   ]
  },
  {
   "cell_type": "code",
   "execution_count": 10,
   "metadata": {},
   "outputs": [
    {
     "data": {
      "image/png": "[encoded data removed]",
      "text/plain": [
       "<Figure size 432x288 with 1 Axes>"
      ]
     },
     "metadata": {},
     "output_type": "display_data"
    }
   ],
   "source": [
    "import matplotlib.pyplot as plt\n",
    "%matplotlib inline\n",
    "for i in range(t.shape[0]):\n",
    "    plt.plot(t[i],a[i], label=\"{}\".format(i))\n",
    "plt.xlabel(tn)\n",
    "plt.ylabel(an)\n",
    "plt.legend(frameon=False)\n",
    "plt.show()"
   ]
  },
  {
   "cell_type": "code",
   "execution_count": 11,
   "metadata": {},
   "outputs": [],
   "source": [
    "# This section will only work if you have 2 or more obs\n",
    "import numpy as np\n",
    "\n",
    "cn = names[2]\n",
    "c = combined_results[cn]\n",
    "atot = a.flatten()\n",
    "ctot = c.flatten()\n",
    "\n",
    "H, xed, yed = np.histogram2d(atot, ctot, bins=30)\n",
    "P = H/H.max()"
   ]
  },
  {
   "cell_type": "code",
   "execution_count": 12,
   "metadata": {},
   "outputs": [
    {
     "data": {
      "image/png": "[encoded data removed]",
      "text/plain": [
       "<Figure size 432x288 with 2 Axes>"
      ]
     },
     "metadata": {},
     "output_type": "display_data"
    }
   ],
   "source": [
    "im = plt.imshow(P, cmap=plt.get_cmap(\"magma_r\", 100), vmax=1)\n",
    "_ = plt.colorbar(im, label=\"probability\")\n",
    "plt.xlim(0,30)\n",
    "plt.ylim(0,30)\n",
    "plt.xlabel(\"[A]\")\n",
    "plt.ylabel(\"[B]\")\n",
    "plt.show()"
   ]
  },
  {
   "cell_type": "code",
   "execution_count": null,
   "metadata": {},
   "outputs": [],
   "source": []
  }
 ],
 "metadata": {
  "kernelspec": {
   "display_name": "Python 3",
   "language": "python",
   "name": "python3"
  },
  "language_info": {
   "codemirror_mode": {
    "name": "ipython",
    "version": 3
   },
   "file_extension": ".py",
   "mimetype": "text/x-python",
   "name": "python",
   "nbconvert_exporter": "python",
   "pygments_lexer": "ipython3",
   "version": "3.6.5"
  }
 },
 "nbformat": 4,
 "nbformat_minor": 2
}
